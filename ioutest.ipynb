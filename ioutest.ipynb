{
 "cells": [
  {
   "cell_type": "code",
   "execution_count": 7,
   "id": "3ca22726",
   "metadata": {},
   "outputs": [],
   "source": [
    "import torch\n",
    "import numpy as np\n",
    "import matplotlib.pyplot as plt"
   ]
  },
  {
   "cell_type": "code",
   "execution_count": 44,
   "id": "db68017a",
   "metadata": {},
   "outputs": [],
   "source": [
    "a = np.array([\n",
    "    [0,0,1],\n",
    "    [0,1,1],\n",
    "    [0,1,1],\n",
    "    [0,0,1]\n",
    "])\n",
    "\n",
    "\n",
    "b = np.array([\n",
    "    [0,0,1],\n",
    "    [0,1,0],\n",
    "    [0,1,0],\n",
    "    [0,0,1]\n",
    "])"
   ]
  },
  {
   "cell_type": "code",
   "execution_count": 4,
   "id": "347496e2",
   "metadata": {},
   "outputs": [
    {
     "name": "stdout",
     "output_type": "stream",
     "text": [
      "IoU is 0.5\n"
     ]
    }
   ],
   "source": [
    "intersection = np.logical_and(a, b)\n",
    "\n",
    "union = np.logical_or(a, b)\n",
    "\n",
    "iou_score = np.sum(intersection) / np.sum(union)\n",
    "\n",
    "print('IoU is %s' % iou_score)"
   ]
  },
  {
   "cell_type": "code",
   "execution_count": 45,
   "id": "2ff727e4",
   "metadata": {
    "scrolled": true
   },
   "outputs": [
    {
     "data": {
      "text/plain": [
       "tensor([[[[0, 0, 1],\n",
       "          [0, 1, 1],\n",
       "          [0, 1, 1],\n",
       "          [0, 0, 1]]]])"
      ]
     },
     "execution_count": 45,
     "metadata": {},
     "output_type": "execute_result"
    }
   ],
   "source": [
    "aa = torch.tensor(a.reshape((1,1,4, 3)))\n",
    "bb = torch.tensor(b.reshape((1,1,4, 3)))\n",
    "\n",
    "aa\n",
    "# aa = torch.tensor(np.expand)"
   ]
  },
  {
   "cell_type": "code",
   "execution_count": 46,
   "id": "f2f909a4",
   "metadata": {},
   "outputs": [
    {
     "data": {
      "text/plain": [
       "tensor([[[[0, 0, 1],\n",
       "          [0, 1, 0],\n",
       "          [0, 1, 0],\n",
       "          [0, 0, 1]]]])"
      ]
     },
     "execution_count": 46,
     "metadata": {},
     "output_type": "execute_result"
    }
   ],
   "source": [
    "bb"
   ]
  },
  {
   "cell_type": "code",
   "execution_count": 26,
   "id": "c1021753",
   "metadata": {},
   "outputs": [],
   "source": [
    "def iou_pytorch(outputs: torch.Tensor, labels: torch.Tensor):\n",
    "    # You can comment out this line if you are passing tensors of equal shape\n",
    "    # But if you are passing output from UNet or something it will most probably\n",
    "    # be with the BATCH x 1 x H x W shape\n",
    "    outputs = outputs.squeeze(1)  # BATCH x 1 x H x W => BATCH x H x W\n",
    "    \n",
    "    intersection = (outputs & labels).float().sum((1, 2))  # Will be zero if Truth=0 or Prediction=0\n",
    "    union = (outputs | labels).float().sum((1, 2))         # Will be zzero if both are 0\n",
    "    \n",
    "    iou = (intersection + SMOOTH) / (union + SMOOTH)  # We smooth our devision to avoid 0/0\n",
    "    \n",
    "    thresholded = torch.clamp(20 * (iou - 0.5), 0, 10).ceil() / 10  # This is equal to comparing with thresolds\n",
    "    \n",
    "    return thresholded.mean() "
   ]
  },
  {
   "cell_type": "code",
   "execution_count": 28,
   "id": "3f3fac3e",
   "metadata": {},
   "outputs": [
    {
     "data": {
      "text/plain": [
       "tensor(0.7000)"
      ]
     },
     "execution_count": 28,
     "metadata": {},
     "output_type": "execute_result"
    }
   ],
   "source": [
    "SMOOTH = 1e-6\n",
    "iou_pytorch(aa, bb)"
   ]
  },
  {
   "cell_type": "code",
   "execution_count": 47,
   "id": "8a2de3ef",
   "metadata": {},
   "outputs": [
    {
     "data": {
      "text/plain": [
       "tensor(0.6667)"
      ]
     },
     "execution_count": 47,
     "metadata": {},
     "output_type": "execute_result"
    }
   ],
   "source": [
    "torch.sum(aa & bb)/torch.sum(aa | bb)"
   ]
  },
  {
   "cell_type": "code",
   "execution_count": 49,
   "id": "59513de8",
   "metadata": {},
   "outputs": [
    {
     "data": {
      "text/plain": [
       "5"
      ]
     },
     "execution_count": 49,
     "metadata": {},
     "output_type": "execute_result"
    }
   ],
   "source": [
    "5 & 5"
   ]
  },
  {
   "cell_type": "code",
   "execution_count": null,
   "id": "0354ab76",
   "metadata": {},
   "outputs": [],
   "source": []
  }
 ],
 "metadata": {
  "kernelspec": {
   "display_name": "Python 3 (ipykernel)",
   "language": "python",
   "name": "python3"
  },
  "language_info": {
   "codemirror_mode": {
    "name": "ipython",
    "version": 3
   },
   "file_extension": ".py",
   "mimetype": "text/x-python",
   "name": "python",
   "nbconvert_exporter": "python",
   "pygments_lexer": "ipython3",
   "version": "3.7.11"
  }
 },
 "nbformat": 4,
 "nbformat_minor": 5
}
